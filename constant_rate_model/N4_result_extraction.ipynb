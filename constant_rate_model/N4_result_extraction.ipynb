{
 "cells": [
  {
   "cell_type": "markdown",
   "metadata": {},
   "source": [
    "### Notebook 4 - Post-MCMC parameter estimation, extract parameter estimates from the sampled chains"
   ]
  },
  {
   "cell_type": "markdown",
   "metadata": {},
   "source": [
    "The chains underlying the parameter estimates in the paper are not contained within this github repository, but instead can be found in the zenodo data repository linked to from the README. The same is true for the figures associated with each gene's parameter estimates (corner plots and fitted profiles). The result summary extracted by this notebook is \"extracted_results/MCMC_result_collection.csv\"."
   ]
  },
  {
   "cell_type": "code",
   "execution_count": 1,
   "metadata": {},
   "outputs": [],
   "source": [
    "import numpy as np\n",
    "import pandas as pd\n",
    "from scipy.integrate import odeint\n",
    "from os import listdir\n",
    "from os.path import isfile, join\n",
    "\n",
    "# custom functions\n",
    "from MCMC_pipe import import_data, HDI, protein_ODE"
   ]
  },
  {
   "cell_type": "markdown",
   "metadata": {},
   "source": [
    "#### A) Get list of files from which to collect data, prepare functions"
   ]
  },
  {
   "cell_type": "code",
   "execution_count": 3,
   "metadata": {},
   "outputs": [],
   "source": [
    "# identify folder with MCMC chains and posterior predictive results\n",
    "MC_folder = \"RESULTS/MCMC_results/\"\n",
    "MC_chain_list = [f for f in listdir(MC_folder) if isfile(join(MC_folder, f)) and f.endswith('chain_sample.csv')]\n",
    "MC_pp_list = [f for f in listdir(MC_folder) if isfile(join(MC_folder, f)) and f.endswith('posterior_predictive_results.csv')]"
   ]
  },
  {
   "cell_type": "code",
   "execution_count": 4,
   "metadata": {},
   "outputs": [
    {
     "data": {
      "text/plain": [
       "2866"
      ]
     },
     "execution_count": 4,
     "metadata": {},
     "output_type": "execute_result"
    }
   ],
   "source": [
    "# sort both lists alphabetically for easier iteration\n",
    "MC_chain_list = sorted(MC_chain_list)\n",
    "MC_pp_list = sorted(MC_pp_list)\n",
    "len(MC_chain_list)"
   ]
  },
  {
   "cell_type": "code",
   "execution_count": 5,
   "metadata": {},
   "outputs": [],
   "source": [
    "# to calculate model traces, we also need the data\n",
    "M_data, P_data, Psem_data, M_interp_dict, beta_gamma_dist, delta_gamma_dist, start_values = \\\n",
    "    import_data(import_folder='processed_data')"
   ]
  },
  {
   "cell_type": "markdown",
   "metadata": {},
   "source": [
    "#### B) Go through genes and extract information"
   ]
  },
  {
   "cell_type": "code",
   "execution_count": 6,
   "metadata": {},
   "outputs": [
    {
     "name": "stdout",
     "output_type": "stream",
     "text": [
      "0\n",
      "100\n",
      "200\n",
      "300\n",
      "400\n",
      "500\n",
      "600\n",
      "700\n",
      "800\n",
      "900\n",
      "1000\n",
      "1100\n",
      "1200\n",
      "1300\n",
      "1400\n",
      "1500\n",
      "1600\n",
      "1700\n",
      "1800\n",
      "1900\n",
      "2000\n",
      "2100\n",
      "2200\n",
      "2300\n",
      "2400\n",
      "2500\n",
      "2600\n",
      "2700\n",
      "2800\n"
     ]
    }
   ],
   "source": [
    "# prepare an array to collect all info, a total of 53 data points\n",
    "res_array = np.zeros((len(MC_chain_list), 54))\n",
    "gene_list = []\n",
    "\n",
    "for i, chain_file in enumerate(MC_chain_list):\n",
    "    if i%100 == 0:\n",
    "        print(i)\n",
    "    # prep\n",
    "    gene = chain_file.split('_')[0]\n",
    "    gene_list.append(gene)\n",
    "    res_dict = {}\n",
    "    # get MCMC chain df\n",
    "    chain_path = MC_folder + chain_file\n",
    "    chain_df = pd.read_csv(chain_path, index_col=0)\n",
    "    # get posterior predictive dict\n",
    "    pp_path = MC_folder + gene + '_' + 'posterior_predictive_results.csv'\n",
    "    pp_df = pd.read_csv(pp_path, index_col=0)\n",
    "\n",
    "    # get the mode for this gene and write to dict\n",
    "    res_dict['beta_mode'] = np.exp(chain_df.iloc[chain_df['log_prob'].argmax()]['log_beta'])\n",
    "    res_dict['delta_mode'] = np.exp(chain_df.iloc[chain_df['log_prob'].argmax()]['log_delta'])\n",
    "    res_dict['Pzero_mode'] = chain_df.iloc[chain_df['log_prob'].argmax()]['Pzero']\n",
    "\n",
    "    # calculate the MAP profile and write each tp to dict\n",
    "    time_vec = np.linspace(0, 96, 6)\n",
    "    mRNA_fun = M_interp_dict[gene]\n",
    "    protein_vals = P_data.loc[gene].values\n",
    "    model_vals = odeint(protein_ODE, res_dict['Pzero_mode'], time_vec,\n",
    "                         args=(mRNA_fun, res_dict['beta_mode'], res_dict['delta_mode'])).T[0]    \n",
    "    MAP_meannorm = model_vals/np.mean(model_vals)\n",
    "    for tp in range(6):\n",
    "        res_dict['protein model MAP (mean-normalized), V{}'.format(tp+1)] = MAP_meannorm[tp]\n",
    "        res_dict['protein model MAP (scaled to molecules/cell), V{}'.format(tp+1)] = model_vals[tp]\n",
    "\n",
    "    # 95% highest density intervals\n",
    "    beta_95_left, beta_95_right = HDI(chain_df['log_beta'], 0.95)\n",
    "    res_dict['beta_HDI95_left'] = np.exp(beta_95_left)\n",
    "    res_dict['beta_HDI95_right'] = np.exp(beta_95_right)\n",
    "\n",
    "    delta_95_left, delta_95_right = HDI(chain_df['log_delta'], 0.95)\n",
    "    res_dict['delta_HDI95_left'] = np.exp(delta_95_left)\n",
    "    res_dict['delta_HDI95_right'] = np.exp(delta_95_right)\n",
    "\n",
    "    # 68% highest density intervals\n",
    "    beta_68_left, beta_68_right = HDI(chain_df['log_beta'], 0.68)\n",
    "    res_dict['beta_HDI68_left'] = np.exp(beta_68_left)\n",
    "    res_dict['beta_HDI68_right'] = np.exp(beta_68_right)\n",
    "\n",
    "    delta_68_left, delta_68_right = HDI(chain_df['log_delta'], 0.68)\n",
    "    res_dict['delta_HDI68_left'] = np.exp(delta_68_left)\n",
    "    res_dict['delta_HDI68_right'] = np.exp(delta_68_right)\n",
    "\n",
    "    # get median and percentiles for this gene and write to dict\n",
    "    beta_percs = np.percentile(chain_df['log_beta'], [16, 50, 84])\n",
    "    delta_percs = np.percentile(chain_df['log_delta'], [16, 50, 84])\n",
    "\n",
    "    res_dict['beta_p16'] = np.exp(beta_percs[0])\n",
    "    res_dict['beta_p50'] = np.exp(beta_percs[1])\n",
    "    res_dict['beta_p84'] = np.exp(beta_percs[2])\n",
    "\n",
    "    res_dict['delta_p16'] = np.exp(delta_percs[0])\n",
    "    res_dict['delta_p50'] = np.exp(delta_percs[1])\n",
    "    res_dict['delta_p84'] = np.exp(delta_percs[2])\n",
    "    \n",
    "    # now, add the posterior predictive pvalues\n",
    "    for modval in pp_df.index:\n",
    "        res_dict[modval] = pp_df.loc[modval]['value']\n",
    "    \n",
    "    # get the values and write them to the array\n",
    "    res_array[i, :] = [x[1] for x in list(res_dict.items())]\n",
    "    \n",
    "# at the end, also get the keys and make dataframe, export\n",
    "value_names = [x[0] for x in list(res_dict.items())]\n",
    "res_df = pd.DataFrame(data=res_array, columns=value_names, index=gene_list)\n",
    "res_df.sort_index(axis=1, inplace=True)\n",
    "res_df.to_csv('extracted_results/MCMC_result_collection.csv')"
   ]
  },
  {
   "cell_type": "code",
   "execution_count": null,
   "metadata": {},
   "outputs": [],
   "source": []
  }
 ],
 "metadata": {
  "kernelspec": {
   "display_name": "Python 3",
   "language": "python",
   "name": "python3"
  },
  "language_info": {
   "codemirror_mode": {
    "name": "ipython",
    "version": 3
   },
   "file_extension": ".py",
   "mimetype": "text/x-python",
   "name": "python",
   "nbconvert_exporter": "python",
   "pygments_lexer": "ipython3",
   "version": "3.8.6"
  }
 },
 "nbformat": 4,
 "nbformat_minor": 4
}
